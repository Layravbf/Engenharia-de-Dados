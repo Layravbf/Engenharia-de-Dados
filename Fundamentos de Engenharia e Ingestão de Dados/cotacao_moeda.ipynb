{
  "nbformat": 4,
  "nbformat_minor": 0,
  "metadata": {
    "colab": {
      "name": "cotacao_moeda.ipynb",
      "provenance": [],
      "collapsed_sections": [],
      "authorship_tag": "ABX9TyPFQLr2OfkCetRvKiW40Jt2",
      "include_colab_link": true
    },
    "kernelspec": {
      "name": "python3",
      "display_name": "Python 3"
    },
    "language_info": {
      "name": "python"
    }
  },
  "cells": [
    {
      "cell_type": "markdown",
      "metadata": {
        "id": "view-in-github",
        "colab_type": "text"
      },
      "source": [
        "<a href=\"https://colab.research.google.com/github/Layravbf/Engenharia-de-Dados/blob/main/cotacao_moeda.ipynb\" target=\"_parent\"><img src=\"https://colab.research.google.com/assets/colab-badge.svg\" alt=\"Open In Colab\"/></a>"
      ]
    },
    {
      "cell_type": "code",
      "execution_count": null,
      "metadata": {
        "id": "nmqFebAN0le2"
      },
      "outputs": [],
      "source": [
        "import requests\n",
        "import json\n",
        "import random"
      ]
    },
    {
      "cell_type": "code",
      "source": [
        "url = 'https://economia.awesomeapi.com.br/json/last/USD-BRL'\n",
        "ret = requests.get(url)"
      ],
      "metadata": {
        "id": "v-tGdqch1bz0"
      },
      "execution_count": null,
      "outputs": []
    },
    {
      "cell_type": "code",
      "source": [
        "if ret:\n",
        "  print(ret.text)\n",
        "else:\n",
        "  print('Falhou')"
      ],
      "metadata": {
        "colab": {
          "base_uri": "https://localhost:8080/"
        },
        "id": "pMGQf1g84hnY",
        "outputId": "445abfc5-f29c-41d9-bbcf-4645886bf56e"
      },
      "execution_count": null,
      "outputs": [
        {
          "output_type": "stream",
          "name": "stdout",
          "text": [
            "{\"USDBRL\":{\"code\":\"USD\",\"codein\":\"BRL\",\"name\":\"Dólar Americano/Real Brasileiro\",\"high\":\"5.1649\",\"low\":\"5.103\",\"varBid\":\"-0.0305\",\"pctChange\":\"-0.59\",\"bid\":\"5.1332\",\"ask\":\"5.1349\",\"timestamp\":\"1659974195\",\"create_date\":\"2022-08-08 12:56:35\"}}\n"
          ]
        }
      ]
    },
    {
      "cell_type": "code",
      "source": [
        "dolar = json.loads(ret.text)['USDBRL']"
      ],
      "metadata": {
        "id": "6N0m6soz5MAe"
      },
      "execution_count": null,
      "outputs": []
    },
    {
      "cell_type": "code",
      "source": [
        "dolar['bid']"
      ],
      "metadata": {
        "colab": {
          "base_uri": "https://localhost:8080/",
          "height": 35
        },
        "id": "h-H4qvom6DGR",
        "outputId": "1913ca6b-1613-4a36-e9e4-9aba0123c152"
      },
      "execution_count": null,
      "outputs": [
        {
          "output_type": "execute_result",
          "data": {
            "text/plain": [
              "'5.1332'"
            ],
            "application/vnd.google.colaboratory.intrinsic+json": {
              "type": "string"
            }
          },
          "metadata": {},
          "execution_count": 8
        }
      ]
    },
    {
      "cell_type": "code",
      "source": [
        "print(f\"20 Dólares hoje custam {float(dolar['bid']) *20} reais\")"
      ],
      "metadata": {
        "colab": {
          "base_uri": "https://localhost:8080/"
        },
        "id": "hqKMVJUI6k8T",
        "outputId": "cb1a2211-c175-43f1-f695-5f2a5cabb4ac"
      },
      "execution_count": null,
      "outputs": [
        {
          "output_type": "stream",
          "name": "stdout",
          "text": [
            "20 Dólares hoje custam 102.66400000000002 reais\n"
          ]
        }
      ]
    },
    {
      "cell_type": "code",
      "source": [
        "def cotacao(valor, moeda):\n",
        "  url = f'https://economia.awesomeapi.com.br/json/last/{moeda}'\n",
        "  ret = requests.get(url)\n",
        "  dolar = json.loads(ret.text)[moeda.replace('-', '')]\n",
        "  print(f\"{valor} {moeda[:3]} hoje custam {float(dolar['bid']) *valor} {moeda[4:]}\")"
      ],
      "metadata": {
        "id": "3vrF9hGL9lUN"
      },
      "execution_count": null,
      "outputs": []
    },
    {
      "cell_type": "code",
      "source": [
        "cotacao(20, 'JPY-BRL')"
      ],
      "metadata": {
        "colab": {
          "base_uri": "https://localhost:8080/"
        },
        "id": "PQA4R36CL33W",
        "outputId": "5f04a49a-0fd1-42c3-de48-8249efdabe67"
      },
      "execution_count": null,
      "outputs": [
        {
          "output_type": "stream",
          "name": "stdout",
          "text": [
            "20 JPY hoje custam 0.7618 BRL\n"
          ]
        }
      ]
    },
    {
      "cell_type": "code",
      "source": [
        "try:\n",
        "  cotacao(20, 'USD-BRL')\n",
        "except Exception as e:\n",
        "  print(f'Chave {e} não encontrada')\n",
        "else:\n",
        "  print('ok!')"
      ],
      "metadata": {
        "colab": {
          "base_uri": "https://localhost:8080/"
        },
        "id": "Avn7B5PwNuA7",
        "outputId": "e016108f-acc6-4d51-d066-39e1c7873e0e"
      },
      "execution_count": null,
      "outputs": [
        {
          "output_type": "stream",
          "name": "stdout",
          "text": [
            "20 USD hoje custam 102.67200000000001 BRL\n",
            "ok!\n"
          ]
        }
      ]
    },
    {
      "cell_type": "code",
      "source": [
        "#try exception\n",
        "def mult_moedas(valor):\n",
        "  list_Money = [\n",
        "      'USD-BRL',\n",
        "      'EUR-BRL',\n",
        "      'BTC-BRL',\n",
        "      'RPL-BLR', #moeda inexistente\n",
        "      'JPY-BRL'\n",
        "  ]\n",
        "\n",
        "  for moeda in list_Money:\n",
        "    try: \n",
        "      url = f'https://economia.awesomeapi.com.br/json/last/{moeda}'\n",
        "      ret = requests.get(url)\n",
        "      dolar = json.loads(ret.text)[moeda.replace('-', '')]\n",
        "      print(f\"{valor} {moeda[:3]} hoje custam {float(dolar['bid']) *valor} {moeda[4:]}\")\n",
        "    except:\n",
        "      print(f'Falha na moeda: {moeda}')\n",
        "\n",
        "mult_moedas(15)"
      ],
      "metadata": {
        "colab": {
          "base_uri": "https://localhost:8080/"
        },
        "id": "dT7-lwnVOfy7",
        "outputId": "b1b0cf83-a220-4e9f-9bd4-b0d255135593"
      },
      "execution_count": null,
      "outputs": [
        {
          "output_type": "stream",
          "name": "stdout",
          "text": [
            "15 USD hoje custam 76.941 BRL\n",
            "15 EUR hoje custam 78.486 BRL\n",
            "15 BTC hoje custam 1851.0 BRL\n",
            "Falha na moeda: RPL-BLR\n",
            "15 JPY hoje custam 0.5709 BRL\n"
          ]
        }
      ]
    },
    {
      "cell_type": "code",
      "source": [
        "#decorador\n",
        "\n",
        "def error_check(func):\n",
        "  def inner_func(*args, **kargs):\n",
        "    try:\n",
        "      func(*args, **kargs)\n",
        "    except:\n",
        "      print(f'{func.__name__} falhou ')\n",
        "  return inner_func\n",
        "\n",
        "@error_check\n",
        "def func_moedas(valor, moeda):\n",
        "  url = f'https://economia.awesomeapi.com.br/json/last/{moeda}'\n",
        "  ret = requests.get(url)\n",
        "  dolar = json.loads(ret.text)[moeda.replace('-', '')]\n",
        "  print(f\"{valor} {moeda[:3]} hoje custam {float(dolar['bid']) *valor} {moeda[4:]}\")\n",
        "  \n",
        "func_moedas(20, 'USD-BRL')\n",
        "func_moedas(20, 'EUR-BRL')\n",
        "func_moedas(20, 'BTC-BRL')\n",
        "func_moedas(20, 'RPL-BLR')\n",
        "func_moedas(20, 'JPY-BRL')"
      ],
      "metadata": {
        "colab": {
          "base_uri": "https://localhost:8080/"
        },
        "id": "SDdTfjZqRPy6",
        "outputId": "e40153c3-11bc-481a-ff99-5df41ff10f1a"
      },
      "execution_count": null,
      "outputs": [
        {
          "output_type": "stream",
          "name": "stdout",
          "text": [
            "20 USD hoje custam 102.436 BRL\n",
            "20 EUR hoje custam 104.474 BRL\n",
            "20 BTC hoje custam 2468.0 BRL\n",
            "func_moedas falhou \n",
            "20 JPY hoje custam 0.761 BRL\n"
          ]
        }
      ]
    },
    {
      "cell_type": "code",
      "source": [
        "#simulando erros de requisição\n",
        "import backoff\n",
        "@backoff.on_exception(backoff.expo, (ConnectionAbortedError, ConnectionRefusedError, TimeoutError), max_tries=10)\n",
        "def test_func(*args, **kargs):\n",
        "  rnd = random.random()\n",
        "  print(f\"\"\"\n",
        "          RND: {rnd}\n",
        "          args: {args if args else 'sem agrs'}\n",
        "          kargs: {kargs if kargs else 'sem kargs'}\n",
        "      \"\"\")\n",
        "  if rnd < .2:\n",
        "    raise ConnectionAbortedError('Conexão foi finalizada')\n",
        "  elif rnd < .4: \n",
        "    raise ConnectionRefusedError('Conexão foi recusada')\n",
        "  elif rnd < .6:\n",
        "    raise TimeoutError('Tempo de espera excedido')\n",
        "  else:\n",
        "    return \"OK!\""
      ],
      "metadata": {
        "id": "eKW8Vy9UV2MX"
      },
      "execution_count": null,
      "outputs": []
    },
    {
      "cell_type": "code",
      "source": [
        "test_func()"
      ],
      "metadata": {
        "colab": {
          "base_uri": "https://localhost:8080/",
          "height": 226
        },
        "id": "yPjYEdZMXUve",
        "outputId": "eaa22b48-08ef-4b14-8688-18020900cf25"
      },
      "execution_count": null,
      "outputs": [
        {
          "output_type": "stream",
          "name": "stderr",
          "text": [
            "INFO:backoff:Backing off test_func(...) for 0.8s (ConnectionRefusedError: Conexão foi recusada)\n"
          ]
        },
        {
          "output_type": "stream",
          "name": "stdout",
          "text": [
            "\n",
            "          RND: 0.316336712392962\n",
            "          args: sem agrs\n",
            "          kargs: sem kargs\n",
            "      \n",
            "\n",
            "          RND: 0.8538027336945508\n",
            "          args: sem agrs\n",
            "          kargs: sem kargs\n",
            "      \n"
          ]
        },
        {
          "output_type": "execute_result",
          "data": {
            "text/plain": [
              "'OK!'"
            ],
            "application/vnd.google.colaboratory.intrinsic+json": {
              "type": "string"
            }
          },
          "metadata": {},
          "execution_count": 43
        }
      ]
    },
    {
      "cell_type": "code",
      "source": [
        "test_func(42)"
      ],
      "metadata": {
        "colab": {
          "base_uri": "https://localhost:8080/",
          "height": 226
        },
        "id": "0TbE4NPuXeA6",
        "outputId": "26c04750-8d6b-4fe0-b987-54408f98f5bc"
      },
      "execution_count": null,
      "outputs": [
        {
          "output_type": "stream",
          "name": "stderr",
          "text": [
            "INFO:backoff:Backing off test_func(...) for 0.6s (ConnectionAbortedError: Conexão foi finalizada)\n"
          ]
        },
        {
          "output_type": "stream",
          "name": "stdout",
          "text": [
            "\n",
            "          RND: 0.10963298881362082\n",
            "          args: (42,)\n",
            "          kargs: sem kargs\n",
            "      \n",
            "\n",
            "          RND: 0.6272686198012044\n",
            "          args: (42,)\n",
            "          kargs: sem kargs\n",
            "      \n"
          ]
        },
        {
          "output_type": "execute_result",
          "data": {
            "text/plain": [
              "'OK!'"
            ],
            "application/vnd.google.colaboratory.intrinsic+json": {
              "type": "string"
            }
          },
          "metadata": {},
          "execution_count": 46
        }
      ]
    },
    {
      "cell_type": "code",
      "source": [
        "test_func(42, 51, nome='Layra')"
      ],
      "metadata": {
        "colab": {
          "base_uri": "https://localhost:8080/",
          "height": 122
        },
        "id": "jkbPl2hbXvu8",
        "outputId": "98422d0a-ceeb-4891-88cf-c7b5867c8ec8"
      },
      "execution_count": null,
      "outputs": [
        {
          "output_type": "stream",
          "name": "stdout",
          "text": [
            "\n",
            "          RND: 0.8142995953307742\n",
            "          args: (42, 51)\n",
            "          kargs: {'nome': 'Layra'}\n",
            "      \n"
          ]
        },
        {
          "output_type": "execute_result",
          "data": {
            "text/plain": [
              "'OK!'"
            ],
            "application/vnd.google.colaboratory.intrinsic+json": {
              "type": "string"
            }
          },
          "metadata": {},
          "execution_count": 45
        }
      ]
    },
    {
      "cell_type": "code",
      "source": [
        "# Logs\n",
        "import logging\n",
        "\n",
        "log = logging.getLogger()\n",
        "log.setLevel(logging.DEBUG)\n",
        "formatter = logging.Formatter(\n",
        "    '%(asctime)s - %(name)s - %(levelname)s - %(message)s')\n",
        "ch = logging.StreamHandler()\n",
        "ch.setFormatter(formatter)\n",
        "log.addHandler(ch)"
      ],
      "metadata": {
        "id": "RzN5kkc7arV6"
      },
      "execution_count": null,
      "outputs": []
    },
    {
      "cell_type": "code",
      "source": [
        "import backoff\n",
        "@backoff.on_exception(backoff.expo, (ConnectionAbortedError, ConnectionRefusedError, TimeoutError), max_tries=10)\n",
        "def test_func(*args, **kargs):\n",
        "  rnd = random.random()\n",
        "  log.debug(f\" RND: {rnd} \")\n",
        "  log.info(f\"args: {args if args else 'sem agrs'}\")\n",
        "  log.info(f\"kargs: {kargs if kargs else 'sem kargs'}\")\n",
        "  if rnd < .2:\n",
        "    log.error('Conexão foi finalizada')\n",
        "    raise ConnectionAbortedError('Conexão foi finalizada')\n",
        "  elif rnd < .4: \n",
        "    log.error('Conexão foi recusada')\n",
        "    raise ConnectionRefusedError('Conexão foi recusada')\n",
        "  elif rnd < .6:\n",
        "    log.error('Tempo de espera excedido')\n",
        "    raise TimeoutError('Tempo de espera excedido')\n",
        "  else:\n",
        "    return \"OK!\""
      ],
      "metadata": {
        "id": "p5gfjuhIcICx"
      },
      "execution_count": null,
      "outputs": []
    },
    {
      "cell_type": "code",
      "source": [
        "test_func()"
      ],
      "metadata": {
        "colab": {
          "base_uri": "https://localhost:8080/",
          "height": 313
        },
        "id": "xCKhNqTodIrG",
        "outputId": "dd0de480-fa65-48aa-a698-ea22fc31e861"
      },
      "execution_count": null,
      "outputs": [
        {
          "output_type": "stream",
          "name": "stderr",
          "text": [
            "DEBUG:root: RND: 0.299041233524585 \n",
            "2022-08-08 17:16:52,192 - root - DEBUG -  RND: 0.299041233524585 \n",
            "INFO:root:args: sem agrs\n",
            "2022-08-08 17:16:52,197 - root - INFO - args: sem agrs\n",
            "INFO:root:kargs: sem kargs\n",
            "2022-08-08 17:16:52,204 - root - INFO - kargs: sem kargs\n",
            "ERROR:root:Conexão foi recusada\n",
            "2022-08-08 17:16:52,209 - root - ERROR - Conexão foi recusada\n",
            "INFO:backoff:Backing off test_func(...) for 0.5s (ConnectionRefusedError: Conexão foi recusada)\n",
            "2022-08-08 17:16:52,215 - backoff - INFO - Backing off test_func(...) for 0.5s (ConnectionRefusedError: Conexão foi recusada)\n",
            "DEBUG:root: RND: 0.748871013255932 \n",
            "2022-08-08 17:16:52,694 - root - DEBUG -  RND: 0.748871013255932 \n",
            "INFO:root:args: sem agrs\n",
            "2022-08-08 17:16:52,698 - root - INFO - args: sem agrs\n",
            "INFO:root:kargs: sem kargs\n",
            "2022-08-08 17:16:52,702 - root - INFO - kargs: sem kargs\n"
          ]
        },
        {
          "output_type": "execute_result",
          "data": {
            "text/plain": [
              "'OK!'"
            ],
            "application/vnd.google.colaboratory.intrinsic+json": {
              "type": "string"
            }
          },
          "metadata": {},
          "execution_count": 55
        }
      ]
    }
  ]
}